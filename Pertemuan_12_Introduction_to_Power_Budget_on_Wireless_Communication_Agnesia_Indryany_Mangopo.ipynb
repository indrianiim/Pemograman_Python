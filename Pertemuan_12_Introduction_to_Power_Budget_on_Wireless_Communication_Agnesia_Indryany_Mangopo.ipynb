{
  "nbformat": 4,
  "nbformat_minor": 0,
  "metadata": {
    "colab": {
      "name": "Pertemuan 12_Introduction to Power Budget on Wireless Communication_Agnesia Indryany Mangopo.ipynb",
      "provenance": [],
      "mount_file_id": "1co4occim_yeWA6TJW-fYtt4fLpF4ZvAb",
      "authorship_tag": "ABX9TyMLG1WxHcwHWQZijUQvRsnq",
      "include_colab_link": true
    },
    "kernelspec": {
      "name": "python3",
      "display_name": "Python 3"
    }
  },
  "cells": [
    {
      "cell_type": "markdown",
      "metadata": {
        "id": "view-in-github",
        "colab_type": "text"
      },
      "source": [
        "<a href=\"https://colab.research.google.com/github/indrianiim/Pemograman_Python/blob/main/Pertemuan_12_Introduction_to_Power_Budget_on_Wireless_Communication_Agnesia_Indryany_Mangopo.ipynb\" target=\"_parent\"><img src=\"https://colab.research.google.com/assets/colab-badge.svg\" alt=\"Open In Colab\"/></a>"
      ]
    },
    {
      "cell_type": "markdown",
      "metadata": {
        "id": "Ayqkcv1IDsXQ"
      },
      "source": [
        "NAMA    : Agnesia Indryany Mangopo\r\n",
        "\r\n",
        "NIM     : 1101184101\r\n",
        "\r\n",
        "KELAS   : TT-43-G2\r\n",
        "\r\n",
        "TUGAS   : PYTHON - 12\r\n",
        "\r\n",
        "\r\n",
        "\r\n"
      ]
    },
    {
      "cell_type": "code",
      "metadata": {
        "id": "iS2PynRtEY3b"
      },
      "source": [
        "import numpy as np"
      ],
      "execution_count": 1,
      "outputs": []
    },
    {
      "cell_type": "code",
      "metadata": {
        "colab": {
          "base_uri": "https://localhost:8080/"
        },
        "id": "wN1YJrJRErdT",
        "outputId": "f3202655-e5fb-4724-a0cb-756b73b5010f"
      },
      "source": [
        "fc=int(input(\"Masukkan nilai fc (400 - 2000 Mhz): \"))\r\n",
        "hT=int(input(\"Masukkan nilai hT (1-40 meter): \"))\r\n",
        "hR=int(input(\"Masukkan nilai hR (1-30 meter): \"))\r\n",
        "d=int(input(\"Masukkan nilai d (dalam km): \"))\r\n",
        "tipe_area=input(\"Masukkan tipe area('Urban', 'Suburban', 'Open'): \")"
      ],
      "execution_count": 2,
      "outputs": [
        {
          "output_type": "stream",
          "text": [
            "Masukkan nilai fc (400 - 2000 Mhz): 800000000\n",
            "Masukkan nilai hT (1-40 meter): 30\n",
            "Masukkan nilai hR (1-30 meter): 30\n",
            "Masukkan nilai d (dalam km): 30\n",
            "Masukkan tipe area('Urban', 'Suburban', 'Open'): Urban\n"
          ],
          "name": "stdout"
        }
      ]
    },
    {
      "cell_type": "code",
      "metadata": {
        "id": "NqyO4h71E93C"
      },
      "source": [
        "#fc = 1500000000 #Hertz\r\n",
        "#hT = 40 #meter\r\n",
        "#hR = 30 #meter\r\n",
        "#d = 12 #kilometer\r\n",
        "#tipe_area = \"Suburban\""
      ],
      "execution_count": 3,
      "outputs": []
    },
    {
      "cell_type": "code",
      "metadata": {
        "id": "4Vd-OYAhFOQO"
      },
      "source": [
        "NtL = lambda x: 10*np.log10(x)"
      ],
      "execution_count": 4,
      "outputs": []
    },
    {
      "cell_type": "code",
      "metadata": {
        "colab": {
          "base_uri": "https://localhost:8080/"
        },
        "id": "OQMDI-mbFRg0",
        "outputId": "fd98c660-4a94-4a9e-f528-c66788ae05b5"
      },
      "source": [
        "def syaratFC(fc):\r\n",
        "  if fc<1500000000 and fc>=400000000:\r\n",
        "    C1,C2 = 69.55, 26.16\r\n",
        "  if fc<=2000000000 and fc>= 1500000000:\r\n",
        "    C1,C2 = 46.3, 33.9\r\n",
        "  return C1,C2\r\n",
        "syaratFC(fc)"
      ],
      "execution_count": 5,
      "outputs": [
        {
          "output_type": "execute_result",
          "data": {
            "text/plain": [
              "(69.55, 26.16)"
            ]
          },
          "metadata": {
            "tags": []
          },
          "execution_count": 5
        }
      ]
    },
    {
      "cell_type": "code",
      "metadata": {
        "colab": {
          "base_uri": "https://localhost:8080/"
        },
        "id": "zZS1R3zeFVTH",
        "outputId": "f0f9df49-af7f-42b4-facd-a1f17f5b26d4"
      },
      "source": [
        "def tipearea(tipe_area, fc):\r\n",
        "  if tipe_area == \"Urban\" :\r\n",
        "    Cm = 0\r\n",
        "  if tipe_area == \"Suburban\" :\r\n",
        "    Cm = -2*((np.log10(fc/28))**2) - 5.4\r\n",
        "  if tipe_area == \"Open\":\r\n",
        "    Cm = -4.78*((np.log10(fc))**2) + 18.33*np.log10(fc) - 40.94\r\n",
        "  return Cm\r\n",
        "tipearea(tipe_area, fc)"
      ],
      "execution_count": 6,
      "outputs": [
        {
          "output_type": "execute_result",
          "data": {
            "text/plain": [
              "0"
            ]
          },
          "metadata": {
            "tags": []
          },
          "execution_count": 6
        }
      ]
    },
    {
      "cell_type": "code",
      "metadata": {
        "id": "1_cgkkxKFZ7n"
      },
      "source": [
        "def carinilaia (hR, fc):\r\n",
        "  a_hR = ((1.1*np.log10(fc))-0.7)*hR - ((1.56*np.log10(fc))-0.8)\r\n",
        "  return a_hR\r\n",
        "#carinilaia(hR, fc), tipearea(tipe_area, fc)"
      ],
      "execution_count": 7,
      "outputs": []
    },
    {
      "cell_type": "code",
      "metadata": {
        "id": "z9IaFlPRFd_p"
      },
      "source": [
        "def pathloss (fc,hT,d):\r\n",
        "  C1,C2 = syaratFC(fc)\r\n",
        "  Cm = tipearea(tipe_area, fc)\r\n",
        "  a_hR = carinilaia(hR, fc)\r\n",
        "  LP = C1 + C2*np.log10(fc) - 13.83*np.log10(hT) - a_hR + (44.9 - 6.55*np.log10(hT))*np.log(d) + Cm\r\n",
        "  return LP"
      ],
      "execution_count": 8,
      "outputs": []
    },
    {
      "cell_type": "code",
      "metadata": {
        "colab": {
          "base_uri": "https://localhost:8080/"
        },
        "id": "sWo2CShxFhRf",
        "outputId": "14c6416d-b7b5-415d-bf0c-4d24e5420ede"
      },
      "source": [
        "#Ketika Path Loss di soal ternyata belum dalam dB\r\n",
        "LP = pathloss(fc,hT,d)\r\n",
        "LpdB = NtL(LP)\r\n",
        "print (\"Path Loss dalam dB = \", LpdB, \"dB\")\r\n",
        "print (\"Path Loss dalam Numerik = \", LP)\r\n",
        "\r\n",
        "\r\n",
        "#Ketika Path Loss di soal ternyata sudah dalam dB\r\n",
        "LP = pathloss(fc,hT,d)\r\n",
        "print(\"\\nPath Loss dalam dB = \", LP, \"dB\")"
      ],
      "execution_count": 9,
      "outputs": [
        {
          "output_type": "stream",
          "text": [
            "Path Loss dalam dB =  21.526545423319373 dB\n",
            "Path Loss dalam Numerik =  142.11978516966764\n",
            "\n",
            "Path Loss dalam dB =  142.11978516966764 dB\n"
          ],
          "name": "stdout"
        }
      ]
    }
  ]
}